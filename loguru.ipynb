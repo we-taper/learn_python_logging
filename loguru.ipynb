{
 "cells": [
  {
   "cell_type": "code",
   "execution_count": 8,
   "metadata": {
    "collapsed": true,
    "pycharm": {
     "is_executing": false,
     "name": "#%%\n"
    }
   },
   "outputs": [],
   "source": [
    "import io\n",
    "\n",
    "from loguru import logger\n",
    "import json"
   ]
  },
  {
   "cell_type": "code",
   "execution_count": 3,
   "outputs": [
    {
     "name": "stderr",
     "text": [
      "2019-12-02 22:37:28.760 | INFO     | __main__:<module>:11 - An info\n",
      "2019-12-02 22:37:28.767 | WARNING  | __main__:<module>:12 - A warning\n"
     ],
     "output_type": "stream"
    }
   ],
   "source": [
    "file = io.StringIO('Some initial text\\n')\n",
    "\n",
    "logger.add(\n",
    "    file,\n",
    "    level='DEBUG',\n",
    "    format='{level}, {name}, {time}, {message}',  # look for the doc about `record` for how to specify a format\n",
    "    filter='__main__', # If a string is used, only the records with the same name and its children will be allowed. \n",
    "    serialize=True,\n",
    ")\n",
    "\n",
    "logger.info('An info')\n",
    "logger.warning('A warning')\n",
    "logger.trace('A trace missing')"
   ],
   "metadata": {
    "collapsed": false,
    "pycharm": {
     "name": "#%%\n",
     "is_executing": false
    }
   }
  },
  {
   "cell_type": "code",
   "execution_count": 6,
   "outputs": [],
   "source": [
    "file_content = file.getvalue()"
   ],
   "metadata": {
    "collapsed": false,
    "pycharm": {
     "name": "#%%\n",
     "is_executing": false
    }
   }
  },
  {
   "cell_type": "code",
   "execution_count": 11,
   "outputs": [],
   "source": [
    "file_content_json = json.loads(file_content.split('\\n')[0])"
   ],
   "metadata": {
    "collapsed": false,
    "pycharm": {
     "name": "#%%\n",
     "is_executing": false
    }
   }
  },
  {
   "cell_type": "code",
   "execution_count": 12,
   "outputs": [
    {
     "name": "stdout",
     "text": [
      "{'text': 'INFO, __main__, 2019-12-02T22:37:28.760664+0000, An info\\n', 'record': {'elapsed': {'repr': '0:00:01.319932', 'seconds': 1.319932}, 'exception': None, 'extra': {}, 'file': {'name': '<ipython-input-3-a1e2a04fa639>', 'path': '<ipython-input-3-a1e2a04fa639>'}, 'function': '<module>', 'level': {'icon': 'ℹ️', 'name': 'INFO', 'no': 20}, 'line': 11, 'message': 'An info', 'module': '<ipython-input-3-a1e2a04fa639>', 'name': '__main__', 'process': {'id': 10137, 'name': 'MainProcess'}, 'thread': {'id': 139869982168896, 'name': 'MainThread'}, 'time': {'repr': '2019-12-02 22:37:28.760664+00:00', 'timestamp': 1575326248.760664}}}\n"
     ],
     "output_type": "stream"
    }
   ],
   "source": [
    "print(file_content_json)"
   ],
   "metadata": {
    "collapsed": false,
    "pycharm": {
     "name": "#%%\n",
     "is_executing": false
    }
   }
  },
  {
   "cell_type": "code",
   "execution_count": 13,
   "outputs": [
    {
     "data": {
      "text/plain": "3"
     },
     "metadata": {},
     "output_type": "execute_result",
     "execution_count": 13
    }
   ],
   "source": [
    "\n",
    "file_for_trace = io.StringIO()\n",
    "logger.add(\n",
    "    file_for_trace,\n",
    "    level='TRACE',\n",
    "    format='{level}, {message}',\n",
    "    filter='a_strange_module',\n",
    "    serialize=False,\n",
    ")\n",
    "logger.add(\n",
    "    file_for_trace,\n",
    "    level='TRACE',\n",
    "    format='{level}, {message} 2',\n",
    "    filter=None,\n",
    "    serialize=False,\n",
    ")"
   ],
   "metadata": {
    "collapsed": false,
    "pycharm": {
     "name": "#%%\n",
     "is_executing": false
    }
   }
  },
  {
   "cell_type": "code",
   "execution_count": 14,
   "outputs": [],
   "source": [
    "logger.trace('Where will this be shown?')\n",
    "\n"
   ],
   "metadata": {
    "collapsed": false,
    "pycharm": {
     "name": "#%%\n",
     "is_executing": false
    }
   }
  },
  {
   "cell_type": "code",
   "execution_count": 15,
   "outputs": [
    {
     "name": "stdout",
     "text": [
      "TRACE, Where will this be shown? 2\n\n"
     ],
     "output_type": "stream"
    }
   ],
   "source": [
    "print(file_for_trace.getvalue())"
   ],
   "metadata": {
    "collapsed": false,
    "pycharm": {
     "name": "#%%\n",
     "is_executing": false
    }
   }
  },
  {
   "cell_type": "code",
   "execution_count": 16,
   "outputs": [
    {
     "name": "stdout",
     "text": [
      "{\"text\": \"INFO, __main__, 2019-12-02T22:37:28.760664+0000, An info\\n\", \"record\": {\"elapsed\": {\"repr\": \"0:00:01.319932\", \"seconds\": 1.319932}, \"exception\": null, \"extra\": {}, \"file\": {\"name\": \"<ipython-input-3-a1e2a04fa639>\", \"path\": \"<ipython-input-3-a1e2a04fa639>\"}, \"function\": \"<module>\", \"level\": {\"icon\": \"\\u2139\\ufe0f\", \"name\": \"INFO\", \"no\": 20}, \"line\": 11, \"message\": \"An info\", \"module\": \"<ipython-input-3-a1e2a04fa639>\", \"name\": \"__main__\", \"process\": {\"id\": 10137, \"name\": \"MainProcess\"}, \"thread\": {\"id\": 139869982168896, \"name\": \"MainThread\"}, \"time\": {\"repr\": \"2019-12-02 22:37:28.760664+00:00\", \"timestamp\": 1575326248.760664}}}\n{\"text\": \"WARNING, __main__, 2019-12-02T22:37:28.767020+0000, A warning\\n\", \"record\": {\"elapsed\": {\"repr\": \"0:00:01.326288\", \"seconds\": 1.326288}, \"exception\": null, \"extra\": {}, \"file\": {\"name\": \"<ipython-input-3-a1e2a04fa639>\", \"path\": \"<ipython-input-3-a1e2a04fa639>\"}, \"function\": \"<module>\", \"level\": {\"icon\": \"\\u26a0\\ufe0f\", \"name\": \"WARNING\", \"no\": 30}, \"line\": 12, \"message\": \"A warning\", \"module\": \"<ipython-input-3-a1e2a04fa639>\", \"name\": \"__main__\", \"process\": {\"id\": 10137, \"name\": \"MainProcess\"}, \"thread\": {\"id\": 139869982168896, \"name\": \"MainThread\"}, \"time\": {\"repr\": \"2019-12-02 22:37:28.767020+00:00\", \"timestamp\": 1575326248.76702}}}\n\n"
     ],
     "output_type": "stream"
    }
   ],
   "source": [
    "print(file.getvalue())"
   ],
   "metadata": {
    "collapsed": false,
    "pycharm": {
     "name": "#%%\n",
     "is_executing": false
    }
   }
  },
  {
   "cell_type": "code",
   "execution_count": null,
   "outputs": [],
   "source": [],
   "metadata": {
    "collapsed": false,
    "pycharm": {
     "name": "#%%\n"
    }
   }
  }
 ],
 "metadata": {
  "kernelspec": {
   "display_name": "Python 3",
   "language": "python",
   "name": "python3"
  },
  "language_info": {
   "codemirror_mode": {
    "name": "ipython",
    "version": 2
   },
   "file_extension": ".py",
   "mimetype": "text/x-python",
   "name": "python",
   "nbconvert_exporter": "python",
   "pygments_lexer": "ipython2",
   "version": "2.7.6"
  },
  "pycharm": {
   "stem_cell": {
    "cell_type": "raw",
    "source": [],
    "metadata": {
     "collapsed": false
    }
   }
  }
 },
 "nbformat": 4,
 "nbformat_minor": 0
}